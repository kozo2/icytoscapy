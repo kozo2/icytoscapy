{
 "metadata": {
  "name": "",
  "signature": "sha256:2a9232cde3d2bb45b09853098140a997f047c5dd3505af16ca1f05841a224520"
 },
 "nbformat": 3,
 "nbformat_minor": 0,
 "worksheets": [
  {
   "cells": [
    {
     "cell_type": "markdown",
     "metadata": {},
     "source": [
      "# Cytoscape RESTful API Example: Small Multiples"
     ]
    },
    {
     "cell_type": "code",
     "collapsed": false,
     "input": [
      "# Load libraries\n",
      "from IPython.html.widgets import interact\n",
      "from IPython.html.widgets import *\n",
      "from IPython.html import widgets\n",
      "import cytoscape.viewer as cy\n",
      "import json\n",
      "from igraph import *\n",
      "\n",
      "import requests\n",
      "import pandas as pd\n",
      "\n",
      "# Make sure Cytoscape  RESTful API App is running!\n",
      "cytoscape_version = requests.get('http://localhost:8080/v1/version')\n",
      "print(\"Cytoscape RESTful API module is ready: version \" +  json.loads(cytoscape_version.text)[\"cytoscapeVersion\"])"
     ],
     "language": "python",
     "metadata": {},
     "outputs": [
      {
       "javascript": [
        "if (window['cytoscape'] === undefined) {\n",
        "    var paths = {\n",
        "        cytoscape: 'http://cytoscape.github.io/cytoscape.js/api/cytoscape.js-latest/cytoscape.min'\n",
        "    };\n",
        "\n",
        "    require.config({\n",
        "        paths: paths\n",
        "    });\n",
        "\n",
        "    require(['cytoscape'], function(cytoscape) {\n",
        "        window['cytoscape'] = cytoscape;\n",
        "\n",
        "        var event = document.createEvent(\"HTMLEvents\");\n",
        "        event.initEvent(\"load_cytoscape\", true, false);\n",
        "        window.dispatchEvent(event);\n",
        "    });\n",
        "}"
       ],
       "metadata": {},
       "output_type": "display_data",
       "text": [
        "<IPython.core.display.Javascript at 0x106c96090>"
       ]
      },
      {
       "output_type": "stream",
       "stream": "stdout",
       "text": [
        "Cytoscape RESTful API module is ready: version 3.1.0\n"
       ]
      }
     ],
     "prompt_number": 1
    },
    {
     "cell_type": "markdown",
     "metadata": {},
     "source": [
      "## Load networks from multiple sources"
     ]
    },
    {
     "cell_type": "code",
     "collapsed": false,
     "input": [
      "file_locations = [\n",
      "    \"file:///Users/kono/Downloads/hsa00010.xml\",\n",
      "    \"file:///Users/kono/Downloads/hsa00052.xml\",\n",
      "    \"file:///Users/kono/Downloads/hsa04060.xml\",\n",
      "    \"file:///Users/kono/Downloads/hsa00020.xml\",\n",
      "    \"http://chianti.ucsd.edu/~kono/data/galFiltered.sif\",\n",
      "    \"http://rest.kegg.jp/get/eco00260/kgml\"\n",
      "]\n",
      "\n",
      "headers = {'Content-Type': 'application/json'}\n",
      "\n",
      "res1 = requests.post(\"http://localhost:8080/v1/networks?source=url\", data=json.dumps(file_locations), headers=headers)\n"
     ],
     "language": "python",
     "metadata": {},
     "outputs": [],
     "prompt_number": 8
    }
   ],
   "metadata": {}
  }
 ]
}