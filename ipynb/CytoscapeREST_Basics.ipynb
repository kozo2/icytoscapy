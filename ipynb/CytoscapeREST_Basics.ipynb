{
 "metadata": {
  "name": "",
  "signature": "sha256:001ab41c85454fe9957041f1997384eb58546e91a3439f03308df827b7249288"
 },
 "nbformat": 3,
 "nbformat_minor": 0,
 "worksheets": [
  {
   "cells": [
    {
     "cell_type": "markdown",
     "metadata": {},
     "source": [
      "# Sample Workflow with Cytoscape and Cytoscape.js"
     ]
    },
    {
     "cell_type": "code",
     "collapsed": false,
     "input": [
      "# Load libraries\n",
      "from IPython.html.widgets import interact\n",
      "from IPython.html.widgets import *\n",
      "from IPython.html import widgets\n",
      "import cytoscape.viewer as cy\n",
      "import json\n",
      "import networkx as nx\n",
      "from igraph import *\n",
      "\n",
      "%matplotlib inline\n",
      "import matplotlib.pyplot as plt\n",
      "\n",
      "import requests\n",
      "\n",
      "import pandas as pd"
     ],
     "language": "python",
     "metadata": {},
     "outputs": [
      {
       "javascript": [
        "if (window['cytoscape'] === undefined) {\n",
        "    var paths = {\n",
        "        cytoscape: 'http://cytoscape.github.io/cytoscape.js/api/cytoscape.js-latest/cytoscape.min'\n",
        "    };\n",
        "\n",
        "    require.config({\n",
        "        paths: paths\n",
        "    });\n",
        "\n",
        "    require(['cytoscape'], function(cytoscape) {\n",
        "        window['cytoscape'] = cytoscape;\n",
        "\n",
        "        var event = document.createEvent(\"HTMLEvents\");\n",
        "        event.initEvent(\"load_cytoscape\", true, false);\n",
        "        window.dispatchEvent(event);\n",
        "    });\n",
        "}"
       ],
       "metadata": {},
       "output_type": "display_data",
       "text": [
        "<IPython.core.display.Javascript at 0x105e87990>"
       ]
      }
     ],
     "prompt_number": 2
    },
    {
     "cell_type": "code",
     "collapsed": false,
     "input": [
      "# Make sure Cytoscape  RESTful API is running!\n",
      "cytoscape_version = requests.get('http://localhost:8080/v1/version')\n",
      "print(\"Cytoscape version is \" +  json.loads(cytoscape_version.text)[\"cytoscapeVersion\"])\n",
      "\n",
      "res = requests.get('http://localhost:8080/v1/networks/count')\n",
      "print(res.text)"
     ],
     "language": "python",
     "metadata": {},
     "outputs": [
      {
       "output_type": "stream",
       "stream": "stdout",
       "text": [
        "Cytoscape version is 3.1.0\n",
        "{\"networkCount\":5}\n"
       ]
      }
     ],
     "prompt_number": 3
    },
    {
     "cell_type": "markdown",
     "metadata": {},
     "source": [
      "## Import & Generate Data in Python\n",
      "\n",
      "### Generate scale-free graphs with NetworkX"
     ]
    },
    {
     "cell_type": "code",
     "collapsed": false,
     "input": [
      "graphs = []\n",
      "\n",
      "for i in range(5):\n",
      "    # Generate scale-free graph\n",
      "    g = nx.scale_free_graph(100);\n",
      "    \n",
      "    # Perform simple graph analysis\n",
      "    \n",
      "    # Node statistics\n",
      "    bc = nx.betweenness_centrality(g)\n",
      "    degree = nx.degree(g)\n",
      "    cc = nx.closeness_centrality(g)\n",
      "    nx.set_node_attributes(g, 'betweenness', bc)\n",
      "    nx.set_node_attributes(g, 'closeness', cc)\n",
      "    nx.set_node_attributes(g, 'degree', degree)\n",
      "    \n",
      "    # Network statistics\n",
      "    g.graph[\"avg_shortest_path_len\"] = nx.average_shortest_path_length(g)\n",
      "    g.graph[\"density\"] = nx.density(g)\n",
      "    graphs.append(g)\n",
      "\n",
      "\n",
      "# Calculate statistics on the network\n",
      "\n",
      "# Visualize with matplotlib\n",
      "# nx.draw(graphs[0])\n",
      "# plt.show()"
     ],
     "language": "python",
     "metadata": {},
     "outputs": [],
     "prompt_number": 4
    },
    {
     "cell_type": "markdown",
     "metadata": {},
     "source": [
      "### Send all network models to Cytoscape"
     ]
    },
    {
     "cell_type": "code",
     "collapsed": false,
     "input": [
      "# Remove all networks\n",
      "requests.delete('http://localhost:8080/v1/networks')\n",
      "\n",
      "headers = {'Content-Type': 'application/json'}\n",
      "\n",
      "for graph in graphs:\n",
      "    cyjs_network = cy.from_networkx(graph)\n",
      "    res1 = requests.post(\"http://localhost:8080/v1/networks?collection=Networks1\", data=json.dumps(cyjs_network), headers=headers)\n",
      "    result = json.loads(res1.content)\n",
      "    network_suid = result[\"networkSUID\"]\n",
      "    res2 = requests.get(\"http://localhost:8080/v1/apply/layouts/force-directed/\" + str(network_suid))"
     ],
     "language": "python",
     "metadata": {},
     "outputs": [],
     "prompt_number": 5
    },
    {
     "cell_type": "markdown",
     "metadata": {},
     "source": [
      "## (Now graphs are in Cytoscape.  Do analysis, visualization, etc...)"
     ]
    },
    {
     "cell_type": "markdown",
     "metadata": {},
     "source": [
      "## Get the visualization back to this notebook."
     ]
    },
    {
     "cell_type": "code",
     "collapsed": false,
     "input": [
      "response = requests.get(\"http://localhost:8080/v1/networks?format=SUID\")\n",
      "network_list = json.loads(response.content)\n",
      "print(network_list)\n",
      "\n",
      "network_views = []\n",
      "for suid in network_list:\n",
      "    response2 = requests.get(\"http://localhost:8080/v1/networks/\" + str(suid) + \"/views/first\")\n",
      "    network_views.append(json.loads(response2.content))"
     ],
     "language": "python",
     "metadata": {},
     "outputs": [
      {
       "output_type": "stream",
       "stream": "stdout",
       "text": [
        "[202740, 201456, 200088, 200778, 202096]\n"
       ]
      }
     ],
     "prompt_number": 6
    },
    {
     "cell_type": "code",
     "collapsed": false,
     "input": [
      "# Visual Style can be a simple Python object!\n",
      "\n",
      "my_style = {\n",
      "  \"title\" : \"My Style 10\",\n",
      "  \"defaults\" : [ {\n",
      "    \"visualProperty\" : \"EDGE_WIDTH\",\n",
      "    \"value\" : 11.0\n",
      "  }, {\n",
      "    \"visualProperty\" : \"EDGE_STROKE_UNSELECTED_PAINT\",\n",
      "    \"value\" : \"#00ddff\"\n",
      "  }, {\n",
      "    \"visualProperty\" : \"NODE_WIDTH\",\n",
      "    \"value\" : 20\n",
      "  }, {\n",
      "    \"visualProperty\" : \"NODE_HEIGHT\",\n",
      "    \"value\" : 20\n",
      "  }],\n",
      "  \"mappings\" : [ {\n",
      "    \"mappingType\" : \"discrete\",\n",
      "    \"mappingColumn\" : \"degree\",\n",
      "    \"mappingColumnType\" : \"Integer\",\n",
      "    \"visualProperty\" : \"NODE_FILL_COLOR\",\n",
      "    \"map\" : [ {\n",
      "      \"key\" : \"1\",\n",
      "      \"value\" : \"#440055\"\n",
      "    }, {\n",
      "      \"key\" : \"4\",\n",
      "      \"value\" : \"#00FF11\"\n",
      "    } ]\n",
      "  }, {\n",
      "    \"mappingType\" : \"passthrough\",\n",
      "    \"mappingColumn\" : \"name\",\n",
      "    \"mappingColumnType\" : \"String\",\n",
      "    \"visualProperty\" : \"NODE_LABEL\"\n",
      "  } ]\n",
      "}\n",
      "\n",
      "requests.post(\"http://localhost:8080/v1/styles\", data=json.dumps(my_style), headers=headers)"
     ],
     "language": "python",
     "metadata": {},
     "outputs": [
      {
       "metadata": {},
       "output_type": "pyout",
       "prompt_number": 13,
       "text": [
        "<Response [204]>"
       ]
      }
     ],
     "prompt_number": 13
    },
    {
     "cell_type": "markdown",
     "metadata": {},
     "source": [
      "## Generate Visual Style Programatically"
     ]
    },
    {
     "cell_type": "code",
     "collapsed": false,
     "input": [
      "style_res = requests.get(\"http://localhost:8080/v1/styles/default\")\n",
      "style_array = json.loads(style_res.content)\n",
      "style2 = style_array[0]['style']\n",
      "\n",
      "cy.render(network_views[4], style2)"
     ],
     "language": "python",
     "metadata": {},
     "outputs": []
    }
   ],
   "metadata": {}
  }
 ]
}